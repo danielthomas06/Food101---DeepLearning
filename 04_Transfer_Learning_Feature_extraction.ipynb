{
  "nbformat": 4,
  "nbformat_minor": 0,
  "metadata": {
    "colab": {
      "name": "04_Transfer Learning Feature extraction.ipynb",
      "provenance": [],
      "collapsed_sections": [],
      "authorship_tag": "ABX9TyN+mVoWX/h2Eh/bX7Ozft2a",
      "include_colab_link": true
    },
    "kernelspec": {
      "name": "python3",
      "display_name": "Python 3"
    },
    "language_info": {
      "name": "python"
    },
    "accelerator": "GPU"
  },
  "cells": [
    {
      "cell_type": "markdown",
      "metadata": {
        "id": "view-in-github",
        "colab_type": "text"
      },
      "source": [
        "<a href=\"https://colab.research.google.com/github/danielthomas06/Food101---DeepLearning/blob/main/04_Transfer_Learning_Feature_extraction.ipynb\" target=\"_parent\"><img src=\"https://colab.research.google.com/assets/colab-badge.svg\" alt=\"Open In Colab\"/></a>"
      ]
    },
    {
      "cell_type": "markdown",
      "metadata": {
        "id": "PGbZjPg7kFFe"
      },
      "source": [
        "# Transfer Learning with TensorFlow: Feature extraction\n",
        "\n",
        "Transfer learning is taking advantage of a working model's existing architecture and learned patterns for our own problems.\n",
        "\n",
        "There are two main benefits:\n",
        "1. Can leverage an existing neural network architecture to work on our problems\n",
        "2. Can use the model to work on our problem which are already learned patterns on dataset similar as ours."
      ]
    },
    {
      "cell_type": "code",
      "metadata": {
        "colab": {
          "base_uri": "https://localhost:8080/"
        },
        "id": "h1VWbtGKk5is",
        "outputId": "19d98b50-6f10-45a5-ed1b-b06511ce58bc"
      },
      "source": [
        "!nvidia-smi"
      ],
      "execution_count": null,
      "outputs": [
        {
          "output_type": "stream",
          "text": [
            "Sat Jun 12 06:58:52 2021       \n",
            "+-----------------------------------------------------------------------------+\n",
            "| NVIDIA-SMI 465.27       Driver Version: 460.32.03    CUDA Version: 11.2     |\n",
            "|-------------------------------+----------------------+----------------------+\n",
            "| GPU  Name        Persistence-M| Bus-Id        Disp.A | Volatile Uncorr. ECC |\n",
            "| Fan  Temp  Perf  Pwr:Usage/Cap|         Memory-Usage | GPU-Util  Compute M. |\n",
            "|                               |                      |               MIG M. |\n",
            "|===============================+======================+======================|\n",
            "|   0  Tesla T4            Off  | 00000000:00:04.0 Off |                    0 |\n",
            "| N/A   37C    P8     9W /  70W |      0MiB / 15109MiB |      0%      Default |\n",
            "|                               |                      |                  N/A |\n",
            "+-------------------------------+----------------------+----------------------+\n",
            "                                                                               \n",
            "+-----------------------------------------------------------------------------+\n",
            "| Processes:                                                                  |\n",
            "|  GPU   GI   CI        PID   Type   Process name                  GPU Memory |\n",
            "|        ID   ID                                                   Usage      |\n",
            "|=============================================================================|\n",
            "|  No running processes found                                                 |\n",
            "+-----------------------------------------------------------------------------+\n"
          ],
          "name": "stdout"
        }
      ]
    },
    {
      "cell_type": "markdown",
      "metadata": {
        "id": "yoKcuA3bk-MS"
      },
      "source": [
        "###Downloading and becoming one with the data\n",
        "\n"
      ]
    },
    {
      "cell_type": "code",
      "metadata": {
        "colab": {
          "base_uri": "https://localhost:8080/"
        },
        "id": "TVftD9fElJsu",
        "outputId": "fb53a857-d1ba-4cb2-b540-ca023ab15d7e"
      },
      "source": [
        "# Get data (10% of the food data)\n",
        "import zipfile\n",
        "\n",
        "#DOwnload the data\n",
        "!wget https://storage.googleapis.com/ztm_tf_course/food_vision/10_food_classes_10_percent.zip\n",
        "\n",
        "#unzip  the downloaded file\n",
        "zip_ref = zipfile.ZipFile(\"10_food_classes_10_percent.zip\")\n",
        "zip_ref.extractall()\n",
        "zip_ref.close()"
      ],
      "execution_count": null,
      "outputs": [
        {
          "output_type": "stream",
          "text": [
            "--2021-06-12 06:58:52--  https://storage.googleapis.com/ztm_tf_course/food_vision/10_food_classes_10_percent.zip\n",
            "Resolving storage.googleapis.com (storage.googleapis.com)... 142.250.31.128, 142.250.81.208, 172.217.7.240, ...\n",
            "Connecting to storage.googleapis.com (storage.googleapis.com)|142.250.31.128|:443... connected.\n",
            "HTTP request sent, awaiting response... 200 OK\n",
            "Length: 168546183 (161M) [application/zip]\n",
            "Saving to: ‘10_food_classes_10_percent.zip’\n",
            "\n",
            "10_food_classes_10_ 100%[===================>] 160.74M   159MB/s    in 1.0s    \n",
            "\n",
            "2021-06-12 06:58:53 (159 MB/s) - ‘10_food_classes_10_percent.zip’ saved [168546183/168546183]\n",
            "\n"
          ],
          "name": "stdout"
        }
      ]
    },
    {
      "cell_type": "code",
      "metadata": {
        "colab": {
          "base_uri": "https://localhost:8080/"
        },
        "id": "m548xY1MlqR1",
        "outputId": "66b467e4-987b-4db0-abaa-4e1f9bd0c823"
      },
      "source": [
        "#How many images in each folder\n",
        "import os\n",
        "\n",
        "for dirpath, dirnames, filenames in os.walk(\"10_food_classes_10_percent\"):\n",
        "  print(f\"There are {len(dirnames)} directories and {len(filenames)} images '{dirpath}'.\")"
      ],
      "execution_count": null,
      "outputs": [
        {
          "output_type": "stream",
          "text": [
            "There are 2 directories and 0 images '10_food_classes_10_percent'.\n",
            "There are 10 directories and 0 images '10_food_classes_10_percent/train'.\n",
            "There are 0 directories and 75 images '10_food_classes_10_percent/train/chicken_curry'.\n",
            "There are 0 directories and 75 images '10_food_classes_10_percent/train/fried_rice'.\n",
            "There are 0 directories and 75 images '10_food_classes_10_percent/train/grilled_salmon'.\n",
            "There are 0 directories and 75 images '10_food_classes_10_percent/train/ramen'.\n",
            "There are 0 directories and 75 images '10_food_classes_10_percent/train/chicken_wings'.\n",
            "There are 0 directories and 75 images '10_food_classes_10_percent/train/sushi'.\n",
            "There are 0 directories and 75 images '10_food_classes_10_percent/train/pizza'.\n",
            "There are 0 directories and 75 images '10_food_classes_10_percent/train/steak'.\n",
            "There are 0 directories and 75 images '10_food_classes_10_percent/train/ice_cream'.\n",
            "There are 0 directories and 75 images '10_food_classes_10_percent/train/hamburger'.\n",
            "There are 10 directories and 0 images '10_food_classes_10_percent/test'.\n",
            "There are 0 directories and 250 images '10_food_classes_10_percent/test/chicken_curry'.\n",
            "There are 0 directories and 250 images '10_food_classes_10_percent/test/fried_rice'.\n",
            "There are 0 directories and 250 images '10_food_classes_10_percent/test/grilled_salmon'.\n",
            "There are 0 directories and 250 images '10_food_classes_10_percent/test/ramen'.\n",
            "There are 0 directories and 250 images '10_food_classes_10_percent/test/chicken_wings'.\n",
            "There are 0 directories and 250 images '10_food_classes_10_percent/test/sushi'.\n",
            "There are 0 directories and 250 images '10_food_classes_10_percent/test/pizza'.\n",
            "There are 0 directories and 250 images '10_food_classes_10_percent/test/steak'.\n",
            "There are 0 directories and 250 images '10_food_classes_10_percent/test/ice_cream'.\n",
            "There are 0 directories and 250 images '10_food_classes_10_percent/test/hamburger'.\n"
          ],
          "name": "stdout"
        }
      ]
    },
    {
      "cell_type": "markdown",
      "metadata": {
        "id": "753dDlpUl0UV"
      },
      "source": [
        "### Create data loaders (preparing the data)\n"
      ]
    },
    {
      "cell_type": "code",
      "metadata": {
        "colab": {
          "base_uri": "https://localhost:8080/"
        },
        "id": "FxolwF9Smzta",
        "outputId": "75b5f084-d64b-4753-e9e6-5713a2d631db"
      },
      "source": [
        "from tensorflow.keras.preprocessing.image import ImageDataGenerator\n",
        "\n",
        "IMG_SHAPE= (224,224)\n",
        "BATCH_SIZE = 32\n",
        "\n",
        "train_dir = \"10_food_classes_10_percent/train/\"\n",
        "test_dir = \"10_food_classes_10_percent/test/\"\n",
        "\n",
        "train_datagen = ImageDataGenerator(rescale=1/255.)\n",
        "test_datagen = ImageDataGenerator(rescale=1/255.)\n",
        "\n",
        "print(\"Training images:\")\n",
        "train_data_10 = train_datagen.flow_from_directory(train_dir,\n",
        "                                                  target_size=IMG_SHAPE,\n",
        "                                                  batch_size=BATCH_SIZE,\n",
        "                                                  class_mode=\"categorical\")\n",
        "\n",
        "print(\"Testing images:\")\n",
        "test_data = test_datagen.flow_from_directory(test_dir,\n",
        "                                             target_size=IMG_SHAPE,\n",
        "                                             batch_size=BATCH_SIZE,\n",
        "                                             class_mode=\"categorical\")"
      ],
      "execution_count": null,
      "outputs": [
        {
          "output_type": "stream",
          "text": [
            "Training images:\n",
            "Found 750 images belonging to 10 classes.\n",
            "Testing images:\n",
            "Found 2500 images belonging to 10 classes.\n"
          ],
          "name": "stdout"
        }
      ]
    },
    {
      "cell_type": "markdown",
      "metadata": {
        "id": "LFBFJbmsn41p"
      },
      "source": [
        "### Setting up callbacks (Things to run while our model trains)\n",
        "\n",
        "Callbacks are extra functionality we can add to our models to be performed during or after training. Some of the popular callbacks:\n",
        "\n",
        "* Tracking experiments with TensorBoard\n",
        "* Model Checkpointing\n",
        "* Early stopping from training"
      ]
    },
    {
      "cell_type": "code",
      "metadata": {
        "id": "wPVyqiaro1s2"
      },
      "source": [
        "# Create TensorBoard callback (functionized because we need to create a new one for each model)\n",
        "\n",
        "def create_tensorboard_callback(dir_name, experiment_name):\n",
        "  log_dir = dir_name+\"/\"+ experiment_name+\"/\"+datetime.datetime.now().strftime(\"%d%m%Y-%H%M%S\")\n",
        "  tensorboard_callback = tf.keras.callbacks.TensorBoard(log_dir=log_dir)\n",
        "  print(f\"Saving TensorBoard log files to: {log_dir}\")\n",
        "  return tensorboard_callback"
      ],
      "execution_count": null,
      "outputs": []
    },
    {
      "cell_type": "markdown",
      "metadata": {
        "id": "SNtCQXPKriPC"
      },
      "source": [
        "### Creating models using TensorFlow Hub\n",
        "\n",
        "Now we can use majority of model's layers are going to come from TensorFlow Hub."
      ]
    },
    {
      "cell_type": "code",
      "metadata": {
        "id": "rTFHN6khsBJV"
      },
      "source": [
        "#Let's comparing the following two models\n",
        "resnet_url = \"https://tfhub.dev/google/imagenet/resnet_v2_50/feature_vector/4\"\n",
        "\n",
        "effnet_url = \"https://tfhub.dev/tensorflow/efficientnet/b0/feature-vector/1\"\n",
        "\n"
      ],
      "execution_count": null,
      "outputs": []
    },
    {
      "cell_type": "code",
      "metadata": {
        "id": "yeGpkAC3umLY"
      },
      "source": [
        "# import dependencies\n",
        "import tensorflow as tf\n",
        "import tensorflow_hub as hub\n",
        "from tensorflow.keras import layers\n",
        "import datetime\n"
      ],
      "execution_count": null,
      "outputs": []
    },
    {
      "cell_type": "code",
      "metadata": {
        "colab": {
          "base_uri": "https://localhost:8080/"
        },
        "id": "rp14v7izyD04",
        "outputId": "bbb23c59-1fc4-4aad-b1f6-681c93d913b7"
      },
      "source": [
        "IMG_SHAPE + (3,)"
      ],
      "execution_count": null,
      "outputs": [
        {
          "output_type": "execute_result",
          "data": {
            "text/plain": [
              "(224, 224, 3)"
            ]
          },
          "metadata": {
            "tags": []
          },
          "execution_count": 9
        }
      ]
    },
    {
      "cell_type": "code",
      "metadata": {
        "id": "8waK1AGpu2Ru"
      },
      "source": [
        "#Let's make a create_model() function to create a model from a URL\n",
        "\n",
        "def create_model(model_url, num_classes=10):\n",
        "  #Download the pretrained model and save it as keras layers\n",
        "  feature_extractor_layer = hub.KerasLayer(model_url,\n",
        "                                           trainable=False,\n",
        "                                           name=\"feature_extractor_layer\",\n",
        "                                           input_shape=IMG_SHAPE+(3,)) #Freeze the already learned patterns\n",
        "  #Create our own model\n",
        "  model = tf.keras.Sequential([\n",
        "                               feature_extractor_layer,\n",
        "                               layers.Dense(num_classes, activation=\"softmax\", name=\"output_layer\")\n",
        "  ])\n",
        "\n",
        "  return model\n"
      ],
      "execution_count": null,
      "outputs": []
    },
    {
      "cell_type": "markdown",
      "metadata": {
        "id": "kiUytYwjyiZ5"
      },
      "source": [
        "###Create resnet TensorFlow Hub Feature Extarction model"
      ]
    },
    {
      "cell_type": "code",
      "metadata": {
        "id": "P0YhOa3Hyqvs"
      },
      "source": [
        "#Create Resnet model\n",
        "resnet_model = create_model(resnet_url,\n",
        "                            num_classes=10)"
      ],
      "execution_count": null,
      "outputs": []
    },
    {
      "cell_type": "code",
      "metadata": {
        "colab": {
          "base_uri": "https://localhost:8080/"
        },
        "id": "n8slPiKHzg2w",
        "outputId": "81e51a1f-2d27-452b-c74f-ae067ab72151"
      },
      "source": [
        "resnet_model.summary()"
      ],
      "execution_count": null,
      "outputs": [
        {
          "output_type": "stream",
          "text": [
            "Model: \"sequential\"\n",
            "_________________________________________________________________\n",
            "Layer (type)                 Output Shape              Param #   \n",
            "=================================================================\n",
            "feature_extractor_layer (Ker (None, 2048)              23564800  \n",
            "_________________________________________________________________\n",
            "output_layer (Dense)         (None, 10)                20490     \n",
            "=================================================================\n",
            "Total params: 23,585,290\n",
            "Trainable params: 20,490\n",
            "Non-trainable params: 23,564,800\n",
            "_________________________________________________________________\n"
          ],
          "name": "stdout"
        }
      ]
    },
    {
      "cell_type": "code",
      "metadata": {
        "id": "L6Nq25vi0V0A"
      },
      "source": [
        "#Compile the resnet model\n",
        "resnet_model.compile(loss=\"categorical_crossentropy\",\n",
        "                     optimizer=tf.keras.optimizers.Adam(),\n",
        "                     metrics=[\"accuracy\"])\n"
      ],
      "execution_count": null,
      "outputs": []
    },
    {
      "cell_type": "code",
      "metadata": {
        "colab": {
          "base_uri": "https://localhost:8080/"
        },
        "id": "mZk-KatK0tTJ",
        "outputId": "5864df9f-001b-4d72-cd5a-abcee87dd4f0"
      },
      "source": [
        "#Fit the resnet model\n",
        "resnet_history = resnet_model.fit(train_data_10,\n",
        "                                 epochs=5,\n",
        "                                 steps_per_epoch=len(train_data_10),\n",
        "                                  validation_data=test_data,\n",
        "                                 validation_steps = len(test_data),\n",
        "                                 callbacks = [create_tensorboard_callback(dir_name=\"tensorflow_hub\",\n",
        "                                                                          experiment_name=\"resnet50V2\")])"
      ],
      "execution_count": null,
      "outputs": [
        {
          "output_type": "stream",
          "text": [
            "Saving TensorBoard log files to: tensorflow_hub/resnet50V2/12062021-065906\n",
            "Epoch 1/5\n",
            "24/24 [==============================] - 52s 818ms/step - loss: 1.9299 - accuracy: 0.3800 - val_loss: 1.1633 - val_accuracy: 0.6356\n",
            "Epoch 2/5\n",
            "24/24 [==============================] - 16s 699ms/step - loss: 0.8947 - accuracy: 0.7267 - val_loss: 0.8446 - val_accuracy: 0.7344\n",
            "Epoch 3/5\n",
            "24/24 [==============================] - 16s 700ms/step - loss: 0.6269 - accuracy: 0.8173 - val_loss: 0.7513 - val_accuracy: 0.7556\n",
            "Epoch 4/5\n",
            "24/24 [==============================] - 16s 703ms/step - loss: 0.4836 - accuracy: 0.8680 - val_loss: 0.7060 - val_accuracy: 0.7640\n",
            "Epoch 5/5\n",
            "24/24 [==============================] - 16s 698ms/step - loss: 0.3870 - accuracy: 0.9027 - val_loss: 0.6667 - val_accuracy: 0.7832\n"
          ],
          "name": "stdout"
        }
      ]
    },
    {
      "cell_type": "code",
      "metadata": {
        "id": "1RcCV-f51WwM"
      },
      "source": [
        "# Let's create a function to plot loss curves.. \n",
        "import matplotlib.pyplot as plt\n",
        "\n",
        "def plot_loss_curves(history):\n",
        "  loss = history.history[\"loss\"]\n",
        "  val_loss = history.history[\"val_loss\"]\n",
        "\n",
        "  accuracy = history.history[\"accuracy\"]\n",
        "  val_accuracy = history.history[\"val_accuracy\"]\n",
        "\n",
        "  epochs = range(len(history.history[\"loss\"]))\n",
        "\n",
        "  #Plot loss\n",
        "  plt.plot(epochs, loss, label = \"training loss\")\n",
        "  plt.plot(epochs, val_loss, label = \"val_loss\")\n",
        "  plt.title(\"Loss\")\n",
        "  plt.xlabel(\"epochs\")\n",
        "  plt.legend()\n",
        "\n",
        "  #PLot accuracy\n",
        "  plt.figure()\n",
        "  plt.plot(epochs, accuracy, label=\"training accuracy\")\n",
        "  plt.plot(epochs, val_accuracy, label=\"val_accuracy\")\n",
        "  plt.title(\"accuracy\")\n",
        "  plt.xlabel(\"epochs\")\n",
        "  plt.legend();"
      ],
      "execution_count": null,
      "outputs": []
    },
    {
      "cell_type": "code",
      "metadata": {
        "colab": {
          "base_uri": "https://localhost:8080/",
          "height": 573
        },
        "id": "CI3S3fUq5x1Z",
        "outputId": "005b04ab-fd3e-4d2d-ff3b-4b27723c97cd"
      },
      "source": [
        "plot_loss_curves(resnet_history)"
      ],
      "execution_count": null,
      "outputs": [
        {
          "output_type": "display_data",
          "data": {
            "image/png": "[encoded data removed]",
            "text/plain": [
              "<Figure size 432x288 with 1 Axes>"
            ]
          },
          "metadata": {
            "tags": [],
            "needs_background": "light"
          }
        },
        {
          "output_type": "display_data",
          "data": {
            "image/png": "[encoded data removed]",
            "text/plain": [
              "<Figure size 432x288 with 1 Axes>"
            ]
          },
          "metadata": {
            "tags": [],
            "needs_background": "light"
          }
        }
      ]
    },
    {
      "cell_type": "markdown",
      "metadata": {
        "id": "opCrZpw853jG"
      },
      "source": [
        "### Creating Efficient Net model"
      ]
    },
    {
      "cell_type": "code",
      "metadata": {
        "colab": {
          "base_uri": "https://localhost:8080/"
        },
        "id": "fUv7iMlUAFL2",
        "outputId": "d692ff12-97fb-4c14-c2cf-d99f727a8096"
      },
      "source": [
        "#Creating efficient B0 model\n",
        "effnet_model = create_model(model_url=effnet_url,\n",
        "                            num_classes=10)\n",
        "\n",
        "#Compile effnet model\n",
        "effnet_model.compile(loss=\"categorical_crossentropy\",\n",
        "                     optimizer=tf.keras.optimizers.Adam(),\n",
        "                     metrics=[\"accuracy\"])\n",
        "\n",
        "effnet_history = effnet_model.fit(train_data_10,\n",
        "                                  epochs=5,\n",
        "                                  validation_data = test_data,\n",
        "                                  validation_steps = len(test_data),\n",
        "                                  callbacks=[create_tensorboard_callback(dir_name=\"tensorflow_hub\",\n",
        "                                                                         experiment_name=\"efficientnetb0\")])"
      ],
      "execution_count": null,
      "outputs": [
        {
          "output_type": "stream",
          "text": [
            "Saving TensorBoard log files to: tensorflow_hub/efficientnetb0/12062021-070114\n",
            "Epoch 1/5\n",
            "24/24 [==============================] - 28s 847ms/step - loss: 1.8479 - accuracy: 0.4480 - val_loss: 1.3246 - val_accuracy: 0.7172\n",
            "Epoch 2/5\n",
            "24/24 [==============================] - 16s 669ms/step - loss: 1.0765 - accuracy: 0.7613 - val_loss: 0.8747 - val_accuracy: 0.8088\n",
            "Epoch 3/5\n",
            "24/24 [==============================] - 15s 663ms/step - loss: 0.7595 - accuracy: 0.8333 - val_loss: 0.7037 - val_accuracy: 0.8416\n",
            "Epoch 4/5\n",
            "24/24 [==============================] - 16s 672ms/step - loss: 0.6110 - accuracy: 0.8560 - val_loss: 0.6161 - val_accuracy: 0.8520\n",
            "Epoch 5/5\n",
            "24/24 [==============================] - 15s 663ms/step - loss: 0.5150 - accuracy: 0.8947 - val_loss: 0.5634 - val_accuracy: 0.8604\n"
          ],
          "name": "stdout"
        }
      ]
    },
    {
      "cell_type": "code",
      "metadata": {
        "colab": {
          "base_uri": "https://localhost:8080/",
          "height": 573
        },
        "id": "8QlZis2cBBO5",
        "outputId": "1848259e-dba0-4b77-951a-9eea5dd9d782"
      },
      "source": [
        "plot_loss_curves(effnet_history)"
      ],
      "execution_count": null,
      "outputs": [
        {
          "output_type": "display_data",
          "data": {
            "image/png": "[encoded data removed]",
            "text/plain": [
              "<Figure size 432x288 with 1 Axes>"
            ]
          },
          "metadata": {
            "tags": [],
            "needs_background": "light"
          }
        },
        {
          "output_type": "display_data",
          "data": {
            "image/png": "[encoded data removed]",
            "text/plain": [
              "<Figure size 432x288 with 1 Axes>"
            ]
          },
          "metadata": {
            "tags": [],
            "needs_background": "light"
          }
        }
      ]
    },
    {
      "cell_type": "code",
      "metadata": {
        "colab": {
          "base_uri": "https://localhost:8080/"
        },
        "id": "YGJetbehCfD7",
        "outputId": "005ad585-0657-48ff-e2e3-93c8a31630e8"
      },
      "source": [
        "#Upload TensorBoard dev records\n",
        "!tensorboard dev upload --logdir ./tensorflow_hub/ \\\n",
        " --name \"EfficientNetB0 vs. ResNet50V2\" \\\n",
        " --description \"Comparing two different TF hub feature extraction model\" \\\n",
        " --one_shot"
      ],
      "execution_count": null,
      "outputs": [
        {
          "output_type": "stream",
          "text": [
            "2021-06-12 07:16:39.126705: I tensorflow/stream_executor/platform/default/dso_loader.cc:53] Successfully opened dynamic library libcudart.so.11.0\n",
            "\n",
            "***** TensorBoard Uploader *****\n",
            "\n",
            "This will upload your TensorBoard logs to https://tensorboard.dev/ from\n",
            "the following directory:\n",
            "\n",
            "./tensorflow_hub/\n",
            "\n",
            "This TensorBoard will be visible to everyone. Do not upload sensitive\n",
            "data.\n",
            "\n",
            "Your use of this service is subject to Google's Terms of Service\n",
            "<https://policies.google.com/terms> and Privacy Policy\n",
            "<https://policies.google.com/privacy>, and TensorBoard.dev's Terms of Service\n",
            "<https://tensorboard.dev/policy/terms/>.\n",
            "\n",
            "This notice will not be shown again while you are logged into the uploader.\n",
            "To log out, run `tensorboard dev auth revoke`.\n",
            "\n",
            "Continue? (yes/NO) yes\n",
            "\n",
            "Please visit this URL to authorize this application: https://accounts.google.com/o/oauth2/auth?response_type=code&client_id=373649185512-8v619h5kft38l4456nm2dj4ubeqsrvh6.apps.googleusercontent.com&redirect_uri=urn%3Aietf%3Awg%3Aoauth%3A2.0%3Aoob&scope=openid+https%3A%2F%2Fwww.googleapis.com%2Fauth%2Fuserinfo.email&state=mSZf17D5nVso869YIRS39bsbXieU36&prompt=consent&access_type=offline\n",
            "Enter the authorization code: 4/1AY0e-g73m_DjyPIpu61sO61C3p8OqncGGJ-f2m7XMBGeZel3pK66vllb5Hg\n",
            "\n",
            "Data for the \"text\" plugin is now uploaded to TensorBoard.dev! Note that uploaded data is public. If you do not want to upload data for this plugin, use the \"--plugins\" command line argument.\n",
            "\n",
            "New experiment created. View your TensorBoard at: https://tensorboard.dev/experiment/nVi16bNJQ9udQyG39MjseQ/\n",
            "\n",
            "\u001b[1m[2021-06-12T07:17:17]\u001b[0m Started scanning logdir.\n",
            "\u001b[1m[2021-06-12T07:17:19]\u001b[0m Total uploaded: 60 scalars, 0 tensors, 2 binary objects (5.8 MB)\n",
            "\u001b[1m[2021-06-12T07:17:19]\u001b[0m Done scanning logdir.\n",
            "\n",
            "\n",
            "Done. View your TensorBoard at https://tensorboard.dev/experiment/nVi16bNJQ9udQyG39MjseQ/\n"
          ],
          "name": "stdout"
        }
      ]
    },
    {
      "cell_type": "markdown",
      "metadata": {
        "id": "5ebuViqNFEk0"
      },
      "source": [
        "TensorBoard experminets are uploaded publicly at https://tensorboard.dev/experiment/nVi16bNJQ9udQyG39MjseQ/"
      ]
    }
  ]
}